{
  "cells": [
    {
      "cell_type": "markdown",
      "metadata": {
        "id": "view-in-github",
        "colab_type": "text"
      },
      "source": [
        "<a href=\"https://colab.research.google.com/github/Sapt-pal/VSD_EdgeAI_on_RISCV/blob/main/Copy_of_Welcome_To_Colab.ipynb\" target=\"_parent\"><img src=\"https://colab.research.google.com/assets/colab-badge.svg\" alt=\"Open In Colab\"/></a>"
      ]
    },
    {
      "cell_type": "code",
      "source": [
        "import pandas as pd\n",
        "import numpy as np\n",
        "import matplotlib.pyplot as plt"
      ],
      "metadata": {
        "id": "xSKX6YDQvJsE"
      },
      "execution_count": null,
      "outputs": []
    },
    {
      "cell_type": "code",
      "source": [
        "dataset = pd.read_csv('studentscores.csv')"
      ],
      "metadata": {
        "id": "F7erwpTivTjv"
      },
      "execution_count": null,
      "outputs": []
    },
    {
      "cell_type": "code",
      "source": [
        "X = dataset.iloc[:,:-1].values\n",
        "Y = dataset.iloc[:,1].values"
      ],
      "metadata": {
        "id": "Rwi0f93VvdRG"
      },
      "execution_count": null,
      "outputs": []
    },
    {
      "cell_type": "markdown",
      "source": [
        "Y=Mx+C"
      ],
      "metadata": {
        "id": "lfwRb1eqvsl6"
      }
    },
    {
      "cell_type": "code",
      "source": [
        "class Model():\n",
        "    def __init__(self, learning_rate, iterations):\n",
        "        self.learning_rate = learning_rate\n",
        "        self.iterations = iterations\n",
        "\n",
        "    def predict(self,X):\n",
        "        return X.dot(self.slope) + self.const\n",
        "\n",
        "    def fit(self, X, Y):\n",
        "        self.m, self.n = X.shape\n",
        "        self.slope = np.zeros(X.shape[1])\n",
        "        self.const = 0\n",
        "        self.X = X\n",
        "        self.Y = Y\n",
        "        for i in range (self.iterations):\n",
        "            self.update_weights()\n",
        "        return self\n",
        "\n",
        "    def update_weights(self):\n",
        "        Y_pred = self.predict(self.X)\n",
        "        dW =- (2 * (self.X.T).dot(self.Y - Y_pred)) / self.m\n",
        "        db =- 2 * np.sum(self.Y - Y_pred) / self.m\n",
        "\n",
        "        self.slope = self.slope - self.learning_rate * dW\n",
        "        self.const = self.const - self.learning_rate * db\n",
        "        return self\n"
      ],
      "metadata": {
        "id": "E8JbvSR-vpqO"
      },
      "execution_count": null,
      "outputs": []
    },
    {
      "cell_type": "code",
      "source": [
        "model = Model(learning_rate = 0.031, iterations = 100000)\n",
        "model.fit(X,Y)"
      ],
      "metadata": {
        "id": "GN1h7sPB1X1e",
        "outputId": "47234379-a707-4f93-c8cf-57f8cfdf0b32",
        "colab": {
          "base_uri": "https://localhost:8080/"
        }
      },
      "execution_count": null,
      "outputs": [
        {
          "output_type": "execute_result",
          "data": {
            "text/plain": [
              "<__main__.Model at 0x7a4b232518e0>"
            ]
          },
          "metadata": {},
          "execution_count": 142
        }
      ]
    },
    {
      "cell_type": "code",
      "source": [
        "Y_pred = model.predict(X)\n",
        "print(Y_pred)"
      ],
      "metadata": {
        "id": "RuemcWzr3FnJ",
        "outputId": "5332497f-3c7d-459b-ebac-0fe0dd5add99",
        "colab": {
          "base_uri": "https://localhost:8080/"
        }
      },
      "execution_count": null,
      "outputs": [
        {
          "output_type": "stream",
          "name": "stdout",
          "text": [
            "[26.92318188 52.3402707  33.76624426 85.57800223 36.69898527 17.14737849\n",
            " 92.4210646  56.25059205 83.62284155 28.87834256 77.75735951 60.16091341\n",
            " 46.47478866 34.74382459 13.23705714 89.48832358 26.92318188 21.05769985\n",
            " 62.11607409 74.8246185  28.87834256 49.40752968 39.63172629 69.9367168\n",
            " 78.73493985]\n"
          ]
        }
      ]
    },
    {
      "cell_type": "code",
      "source": [
        "plt.scatter(dataset['Hours'], dataset['Scores'])\n",
        "plt.scatter(X, Y_pred, color = \"red\")\n",
        "plt.show()\n"
      ],
      "metadata": {
        "id": "Ax7amAk53NBR",
        "outputId": "5897c262-bd3c-4c76-fa85-787ffbbec116",
        "colab": {
          "base_uri": "https://localhost:8080/",
          "height": 430
        }
      },
      "execution_count": null,
      "outputs": [
        {
          "output_type": "display_data",
          "data": {
            "text/plain": [
              "<Figure size 640x480 with 1 Axes>"
            ],
            "image/png": "[encoded data removed]"
          },
          "metadata": {}
        }
      ]
    },
    {
      "cell_type": "code",
      "source": [
        "print(model.slope, model.const)"
      ],
      "metadata": {
        "id": "7KlM2oMc42j1",
        "outputId": "9efb774c-b0c9-4b55-c361-4342c6fe778c",
        "colab": {
          "base_uri": "https://localhost:8080/"
        }
      },
      "execution_count": null,
      "outputs": [
        {
          "output_type": "stream",
          "name": "stdout",
          "text": [
            "[9.77580339] 2.483673405373173\n"
          ]
        }
      ]
    }
  ],
  "metadata": {
    "colab": {
      "provenance": [],
      "include_colab_link": true
    },
    "kernelspec": {
      "display_name": "Python 3",
      "name": "python3"
    }
  },
  "nbformat": 4,
  "nbformat_minor": 0
}